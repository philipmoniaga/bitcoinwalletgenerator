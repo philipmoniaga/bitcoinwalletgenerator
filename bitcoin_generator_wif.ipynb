{
 "cells": [
  {
   "cell_type": "code",
   "execution_count": 23,
   "metadata": {},
   "outputs": [
    {
     "name": "stdout",
     "output_type": "stream",
     "text": [
      "Private key 5cfe6534d65ae12c76246c2ef5f483359cdeabdc808f0c525718f1a6e14b3b81\n",
      "WIF b'5JXEytH6jZSzapvmSkC7Czsdjjt2gtD9uW3TqRye7znUwxP7MZy'\n",
      "public address b'18brGvunCwUpDfwRco9Hi1hC4HhfmVGsu2'\n"
     ]
    }
   ],
   "source": [
    "import os, binascii, hashlib, base58,ecdsa\n",
    "\n",
    "def ripemd160(x):\n",
    "    d = hashlib.new('ripemd160')\n",
    "    d.update(x)\n",
    "    return d\n",
    "\n",
    "def b58encode(key):\n",
    "    return base58.b58encode(key)\n",
    "\n",
    "def b58checksum(key):\n",
    "    checksum=hashlib.sha256(hashlib.sha256(key).digest()).digest()[:4]\n",
    "    return b58encode(key+checksum)\n",
    "\n",
    "def shex(key):\n",
    "    return binascii.hexlify(key).decode()\n",
    "\n",
    "\n",
    "# privatekey\n",
    "priv_key = os.urandom(32)\n",
    "print (\"Private key %s\" % shex(priv_key))\n",
    "\n",
    "#WIF\n",
    "fullkey = b'\\x80' + priv_key\n",
    "WIF = b58checksum(fullkey)\n",
    "print (\"WIF %s\"% WIF)\n",
    "\n",
    "#publickey\n",
    "sk = ecdsa.SigningKey.from_string(priv_key, curve=ecdsa.SECP256k1)\n",
    "vk = sk.get_verifying_key()\n",
    "publ_key = b'\\x04' + vk.to_string()\n",
    "hash160 = ripemd160(hashlib.sha256(publ_key).digest()).digest()\n",
    "\n",
    "publ_addr_a = b\"\\x00\" + hash160\n",
    "publ_addr_b = b58checksum(publ_addr_a)\n",
    "print (\"public address %s\"%(publ_addr_b))\n",
    "\n",
    "\n"
   ]
  },
  {
   "cell_type": "code",
   "execution_count": null,
   "metadata": {},
   "outputs": [],
   "source": []
  },
  {
   "cell_type": "code",
   "execution_count": null,
   "metadata": {},
   "outputs": [],
   "source": []
  },
  {
   "cell_type": "code",
   "execution_count": null,
   "metadata": {},
   "outputs": [],
   "source": []
  }
 ],
 "metadata": {
  "kernelspec": {
   "display_name": "envi",
   "language": "python",
   "name": "envi"
  },
  "language_info": {
   "codemirror_mode": {
    "name": "ipython",
    "version": 3
   },
   "file_extension": ".py",
   "mimetype": "text/x-python",
   "name": "python",
   "nbconvert_exporter": "python",
   "pygments_lexer": "ipython3",
   "version": "3.7.3"
  }
 },
 "nbformat": 4,
 "nbformat_minor": 4
}
